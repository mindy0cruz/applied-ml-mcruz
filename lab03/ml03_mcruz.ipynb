{
 "cells": [
  {
   "cell_type": "markdown",
   "id": "6fdc434d",
   "metadata": {},
   "source": [
    "# Lab 3: Titanic Project- Predicting a Categorical Target and Evaluating Performance\n",
    "\n",
    "### Name: Mindy Cruz\n",
    "### Date: 4/5/2025\n",
    "### Intro: \n",
    "\n",
    "In this lab, we use the Titanic dataset to build and evaluate three classifiers: Decision Tree, Support Vector Machine, and Neural Network. We compare model performance across three different feature sets and reflect on their effectiveness for predicting passenger survival.\n",
    "\n",
    "Three common classification models are listed below. \n",
    "\n",
    "Decision Tree Classifier (DT) - A Decision Tree splits data into smaller groups based on decision rules (like \"is height greater than 150 cm?\"). It’s like a flowchart, where each decision point leads to another question until a final classification is reached. Easy to interpret and fast to train, but can overfit if the tree becomes too complex.\n",
    "\n",
    "Support Vector Machine (SVM) - A Support Vector Machine tries to find the \"best boundary\" (a hyperplane) that separates data into classes. It works well with complex data and small datasets. Effective when there is a clear margin of separation between classes, but can be computationally expensive for large datasets.\n",
    "\n",
    "Neural Network (NN) - A Neural Network is inspired by how human brains process information. It consists of layers of interconnected \"neurons\" that process input data and adjust based on feedback. It can handle complex patterns and non-linear relationships, but needs more data and tuning to avoid overfitting.\n",
    "\n",
    "When trying to classify data, using three (or more) models can help:\n",
    "\n",
    "Decision Trees illustrate how individual features contribute to classification.\n",
    "SVMs are good at finding complex boundaries.\n",
    "Neural Networks are good at learning patterns from complex data."
   ]
  },
  {
   "cell_type": "markdown",
   "id": "c0c0dc42",
   "metadata": {},
   "source": [
    "# Section 1: Import and Inspect the Data"
   ]
  },
  {
   "cell_type": "code",
   "execution_count": 23,
   "id": "91a31a18",
   "metadata": {},
   "outputs": [],
   "source": [
    "# imports\n",
    "import pandas as pd\n",
    "import seaborn as sns\n",
    "import matplotlib.pyplot as plt\n",
    "import numpy as np\n",
    "\n",
    "from sklearn.model_selection import StratifiedShuffleSplit\n",
    "from sklearn.tree import DecisionTreeClassifier, plot_tree\n",
    "from sklearn.svm import SVC\n",
    "from sklearn.neural_network import MLPClassifier\n",
    "from sklearn.metrics import classification_report, confusion_matrix"
   ]
  },
  {
   "cell_type": "code",
   "execution_count": 24,
   "id": "60ec4b3d",
   "metadata": {},
   "outputs": [
    {
     "data": {
      "text/html": [
       "<div>\n",
       "<style scoped>\n",
       "    .dataframe tbody tr th:only-of-type {\n",
       "        vertical-align: middle;\n",
       "    }\n",
       "\n",
       "    .dataframe tbody tr th {\n",
       "        vertical-align: top;\n",
       "    }\n",
       "\n",
       "    .dataframe thead th {\n",
       "        text-align: right;\n",
       "    }\n",
       "</style>\n",
       "<table border=\"1\" class=\"dataframe\">\n",
       "  <thead>\n",
       "    <tr style=\"text-align: right;\">\n",
       "      <th></th>\n",
       "      <th>survived</th>\n",
       "      <th>pclass</th>\n",
       "      <th>sex</th>\n",
       "      <th>age</th>\n",
       "      <th>sibsp</th>\n",
       "      <th>parch</th>\n",
       "      <th>fare</th>\n",
       "      <th>embarked</th>\n",
       "      <th>class</th>\n",
       "      <th>who</th>\n",
       "      <th>adult_male</th>\n",
       "      <th>deck</th>\n",
       "      <th>embark_town</th>\n",
       "      <th>alive</th>\n",
       "      <th>alone</th>\n",
       "    </tr>\n",
       "  </thead>\n",
       "  <tbody>\n",
       "    <tr>\n",
       "      <th>0</th>\n",
       "      <td>0</td>\n",
       "      <td>3</td>\n",
       "      <td>male</td>\n",
       "      <td>22.0</td>\n",
       "      <td>1</td>\n",
       "      <td>0</td>\n",
       "      <td>7.2500</td>\n",
       "      <td>S</td>\n",
       "      <td>Third</td>\n",
       "      <td>man</td>\n",
       "      <td>True</td>\n",
       "      <td>NaN</td>\n",
       "      <td>Southampton</td>\n",
       "      <td>no</td>\n",
       "      <td>False</td>\n",
       "    </tr>\n",
       "    <tr>\n",
       "      <th>1</th>\n",
       "      <td>1</td>\n",
       "      <td>1</td>\n",
       "      <td>female</td>\n",
       "      <td>38.0</td>\n",
       "      <td>1</td>\n",
       "      <td>0</td>\n",
       "      <td>71.2833</td>\n",
       "      <td>C</td>\n",
       "      <td>First</td>\n",
       "      <td>woman</td>\n",
       "      <td>False</td>\n",
       "      <td>C</td>\n",
       "      <td>Cherbourg</td>\n",
       "      <td>yes</td>\n",
       "      <td>False</td>\n",
       "    </tr>\n",
       "    <tr>\n",
       "      <th>2</th>\n",
       "      <td>1</td>\n",
       "      <td>3</td>\n",
       "      <td>female</td>\n",
       "      <td>26.0</td>\n",
       "      <td>0</td>\n",
       "      <td>0</td>\n",
       "      <td>7.9250</td>\n",
       "      <td>S</td>\n",
       "      <td>Third</td>\n",
       "      <td>woman</td>\n",
       "      <td>False</td>\n",
       "      <td>NaN</td>\n",
       "      <td>Southampton</td>\n",
       "      <td>yes</td>\n",
       "      <td>True</td>\n",
       "    </tr>\n",
       "    <tr>\n",
       "      <th>3</th>\n",
       "      <td>1</td>\n",
       "      <td>1</td>\n",
       "      <td>female</td>\n",
       "      <td>35.0</td>\n",
       "      <td>1</td>\n",
       "      <td>0</td>\n",
       "      <td>53.1000</td>\n",
       "      <td>S</td>\n",
       "      <td>First</td>\n",
       "      <td>woman</td>\n",
       "      <td>False</td>\n",
       "      <td>C</td>\n",
       "      <td>Southampton</td>\n",
       "      <td>yes</td>\n",
       "      <td>False</td>\n",
       "    </tr>\n",
       "    <tr>\n",
       "      <th>4</th>\n",
       "      <td>0</td>\n",
       "      <td>3</td>\n",
       "      <td>male</td>\n",
       "      <td>35.0</td>\n",
       "      <td>0</td>\n",
       "      <td>0</td>\n",
       "      <td>8.0500</td>\n",
       "      <td>S</td>\n",
       "      <td>Third</td>\n",
       "      <td>man</td>\n",
       "      <td>True</td>\n",
       "      <td>NaN</td>\n",
       "      <td>Southampton</td>\n",
       "      <td>no</td>\n",
       "      <td>True</td>\n",
       "    </tr>\n",
       "  </tbody>\n",
       "</table>\n",
       "</div>"
      ],
      "text/plain": [
       "   survived  pclass     sex   age  sibsp  parch     fare embarked  class  \\\n",
       "0         0       3    male  22.0      1      0   7.2500        S  Third   \n",
       "1         1       1  female  38.0      1      0  71.2833        C  First   \n",
       "2         1       3  female  26.0      0      0   7.9250        S  Third   \n",
       "3         1       1  female  35.0      1      0  53.1000        S  First   \n",
       "4         0       3    male  35.0      0      0   8.0500        S  Third   \n",
       "\n",
       "     who  adult_male deck  embark_town alive  alone  \n",
       "0    man        True  NaN  Southampton    no  False  \n",
       "1  woman       False    C    Cherbourg   yes  False  \n",
       "2  woman       False  NaN  Southampton   yes   True  \n",
       "3  woman       False    C  Southampton   yes  False  \n",
       "4    man        True  NaN  Southampton    no   True  "
      ]
     },
     "execution_count": 24,
     "metadata": {},
     "output_type": "execute_result"
    }
   ],
   "source": [
    "# Load Titanic dataset\n",
    "titanic = sns.load_dataset('titanic')\n",
    "# Display a few records to verify\n",
    "titanic.head(5)"
   ]
  },
  {
   "cell_type": "markdown",
   "id": "a9a94020",
   "metadata": {},
   "source": [
    "# Section 2: Data Exploration and Preparation"
   ]
  },
  {
   "cell_type": "markdown",
   "id": "ac8d833d",
   "metadata": {},
   "source": [
    "2.1 Handle Missing Values and Clean Data"
   ]
  },
  {
   "cell_type": "code",
   "execution_count": 25,
   "id": "53703717",
   "metadata": {},
   "outputs": [],
   "source": [
    "#input missing values for age using the median:\n",
    "median_age = titanic['age'].median()\n",
    "titanic['age'] = titanic['age'].fillna(median_age)\n",
    "\n",
    "#fill in the missinga vleus for the embark_town using the mode:\n",
    "mode_embark = titanic['embark_town'].mode()[0]\n",
    "titanic['embark_town'] = titanic['embark_town'].fillna(mode_embark)\n"
   ]
  },
  {
   "cell_type": "markdown",
   "id": "1c6356e6",
   "metadata": {},
   "source": [
    "2.2 Feature Engineering\n"
   ]
  },
  {
   "cell_type": "code",
   "execution_count": 26,
   "id": "5c587616",
   "metadata": {},
   "outputs": [],
   "source": [
    "# Create new feature\n",
    "titanic['family_size'] = titanic['sibsp'] + titanic['parch'] + 1\n",
    "\n",
    "# Map categories to numeric values\n",
    "titanic['sex'] = titanic['sex'].map({'male': 0, 'female': 1})\n",
    "titanic['embarked'] = titanic['embarked'].map({'C': 0, 'Q': 1, 'S': 2})\n",
    "titanic['alone'] = titanic['alone'].astype(int)"
   ]
  },
  {
   "cell_type": "markdown",
   "id": "469597e5",
   "metadata": {},
   "source": [
    "# Section 3: Feature Selection and Justification\n"
   ]
  },
  {
   "cell_type": "markdown",
   "id": "5261d3a5",
   "metadata": {},
   "source": [
    "3.1 Choose features and target\n",
    "\n",
    "Case 1: \n",
    "\n",
    "input features: alone\n",
    "target: survived\n",
    "\n",
    "Case 2:\n",
    "\n",
    "input features - age\n",
    "target: survived\n",
    "\n",
    "Case 3:\n",
    "\n",
    "input features -  age and family_size \n",
    "target: survived"
   ]
  },
  {
   "cell_type": "markdown",
   "id": "0bd2abe2",
   "metadata": {},
   "source": [
    "3.2 Define X(features) and y(target)"
   ]
  },
  {
   "cell_type": "code",
   "execution_count": 27,
   "id": "d010e140",
   "metadata": {},
   "outputs": [],
   "source": [
    "# Case 1: Feature = alone\n",
    "\n",
    "# Select the feature 'alone' as input\n",
    "X1 = titanic[['alone']]\n",
    "\n",
    "# Select 'survived' as the target for the same rows\n",
    "y1 = titanic['survived']"
   ]
  },
  {
   "cell_type": "code",
   "execution_count": 28,
   "id": "8c7fffd2",
   "metadata": {},
   "outputs": [],
   "source": [
    "# Case 2: Feature = age (drop if na or not available)\n",
    "\n",
    "# Select the feature 'age', but drop rows where age is missing\n",
    "X2 = titanic[['age']].dropna()\n",
    "\n",
    "# Select the matching 'survived' values using the same index\n",
    "y2 = titanic.loc[X2.index, 'survived']"
   ]
  },
  {
   "cell_type": "code",
   "execution_count": 29,
   "id": "b50bca67",
   "metadata": {},
   "outputs": [],
   "source": [
    "# Case 3: Features = Age + Family Size (drop if na or not available)\n",
    "\n",
    "# Select both 'age' and 'family_size', and drop rows where missing (na)\n",
    "X3 = titanic[['age', 'family_size']].dropna()\n",
    "\n",
    "# Select the corresponding 'survived' values for those rows\n",
    "y3 = titanic.loc[X3.index, 'survived']"
   ]
  },
  {
   "cell_type": "markdown",
   "id": "eed98ccc",
   "metadata": {},
   "source": [
    "Reflection 3:\n",
    "\n",
    "Why are these features selected?\n",
    "\n",
    "Age and family Size are good indicators to determine a passengers survial or not. From history we know that women and children were the first off the boat\n",
    "\n",
    "Are there features that are likely to be highly predictive of survival? I think that sex and pclass would also play a factor. Women were more likely to have gotten off first and people who paid more were also more likely to have gotten off first. "
   ]
  },
  {
   "cell_type": "markdown",
   "id": "daf76379",
   "metadata": {},
   "source": [
    "# Section 4: Train a Classification Model (Decision Tree)"
   ]
  }
 ],
 "metadata": {
  "kernelspec": {
   "display_name": "Python 3",
   "language": "python",
   "name": "python3"
  },
  "language_info": {
   "codemirror_mode": {
    "name": "ipython",
    "version": 3
   },
   "file_extension": ".py",
   "mimetype": "text/x-python",
   "name": "python",
   "nbconvert_exporter": "python",
   "pygments_lexer": "ipython3",
   "version": "3.12.3"
  }
 },
 "nbformat": 4,
 "nbformat_minor": 5
}
