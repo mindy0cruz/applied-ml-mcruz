{
 "cells": [
  {
   "cell_type": "markdown",
   "id": "b2aa8958",
   "metadata": {},
   "source": [
    "# Lab 4 – Predicting a Continuous Target with Regression (Titanic)\n",
    "\n",
    "### Name: Mindy Cruz\n",
    "### Date: 4/11/2025\n",
    "### Intro: \n",
    "\n",
    "In this lab, we’ll predict fare, the amount of money paid for the journey, using features in the Titanic dataset."
   ]
  },
  {
   "cell_type": "markdown",
   "id": "61862288",
   "metadata": {},
   "source": [
    "# Imports"
   ]
  },
  {
   "cell_type": "code",
   "execution_count": 153,
   "id": "2806e388",
   "metadata": {},
   "outputs": [],
   "source": [
    "#imports\n",
    "\n",
    "import seaborn as sns\n",
    "import pandas as pd\n",
    "import numpy as np\n",
    "import matplotlib.pyplot as plt\n",
    "\n",
    "from sklearn.model_selection import train_test_split\n",
    "from sklearn.linear_model import LinearRegression, Ridge, ElasticNet\n",
    "from sklearn.preprocessing import PolynomialFeatures\n",
    "from sklearn.metrics import mean_squared_error, mean_absolute_error, r2_score"
   ]
  },
  {
   "cell_type": "markdown",
   "id": "6f13eb49",
   "metadata": {},
   "source": [
    "# Section 1. Import and Inspect the Data"
   ]
  },
  {
   "cell_type": "code",
   "execution_count": 154,
   "id": "26e5aecd",
   "metadata": {},
   "outputs": [
    {
     "data": {
      "text/html": [
       "<div>\n",
       "<style scoped>\n",
       "    .dataframe tbody tr th:only-of-type {\n",
       "        vertical-align: middle;\n",
       "    }\n",
       "\n",
       "    .dataframe tbody tr th {\n",
       "        vertical-align: top;\n",
       "    }\n",
       "\n",
       "    .dataframe thead th {\n",
       "        text-align: right;\n",
       "    }\n",
       "</style>\n",
       "<table border=\"1\" class=\"dataframe\">\n",
       "  <thead>\n",
       "    <tr style=\"text-align: right;\">\n",
       "      <th></th>\n",
       "      <th>survived</th>\n",
       "      <th>pclass</th>\n",
       "      <th>sex</th>\n",
       "      <th>age</th>\n",
       "      <th>sibsp</th>\n",
       "      <th>parch</th>\n",
       "      <th>fare</th>\n",
       "      <th>embarked</th>\n",
       "      <th>class</th>\n",
       "      <th>who</th>\n",
       "      <th>adult_male</th>\n",
       "      <th>deck</th>\n",
       "      <th>embark_town</th>\n",
       "      <th>alive</th>\n",
       "      <th>alone</th>\n",
       "    </tr>\n",
       "  </thead>\n",
       "  <tbody>\n",
       "    <tr>\n",
       "      <th>0</th>\n",
       "      <td>0</td>\n",
       "      <td>3</td>\n",
       "      <td>male</td>\n",
       "      <td>22.0</td>\n",
       "      <td>1</td>\n",
       "      <td>0</td>\n",
       "      <td>7.2500</td>\n",
       "      <td>S</td>\n",
       "      <td>Third</td>\n",
       "      <td>man</td>\n",
       "      <td>True</td>\n",
       "      <td>NaN</td>\n",
       "      <td>Southampton</td>\n",
       "      <td>no</td>\n",
       "      <td>False</td>\n",
       "    </tr>\n",
       "    <tr>\n",
       "      <th>1</th>\n",
       "      <td>1</td>\n",
       "      <td>1</td>\n",
       "      <td>female</td>\n",
       "      <td>38.0</td>\n",
       "      <td>1</td>\n",
       "      <td>0</td>\n",
       "      <td>71.2833</td>\n",
       "      <td>C</td>\n",
       "      <td>First</td>\n",
       "      <td>woman</td>\n",
       "      <td>False</td>\n",
       "      <td>C</td>\n",
       "      <td>Cherbourg</td>\n",
       "      <td>yes</td>\n",
       "      <td>False</td>\n",
       "    </tr>\n",
       "    <tr>\n",
       "      <th>2</th>\n",
       "      <td>1</td>\n",
       "      <td>3</td>\n",
       "      <td>female</td>\n",
       "      <td>26.0</td>\n",
       "      <td>0</td>\n",
       "      <td>0</td>\n",
       "      <td>7.9250</td>\n",
       "      <td>S</td>\n",
       "      <td>Third</td>\n",
       "      <td>woman</td>\n",
       "      <td>False</td>\n",
       "      <td>NaN</td>\n",
       "      <td>Southampton</td>\n",
       "      <td>yes</td>\n",
       "      <td>True</td>\n",
       "    </tr>\n",
       "    <tr>\n",
       "      <th>3</th>\n",
       "      <td>1</td>\n",
       "      <td>1</td>\n",
       "      <td>female</td>\n",
       "      <td>35.0</td>\n",
       "      <td>1</td>\n",
       "      <td>0</td>\n",
       "      <td>53.1000</td>\n",
       "      <td>S</td>\n",
       "      <td>First</td>\n",
       "      <td>woman</td>\n",
       "      <td>False</td>\n",
       "      <td>C</td>\n",
       "      <td>Southampton</td>\n",
       "      <td>yes</td>\n",
       "      <td>False</td>\n",
       "    </tr>\n",
       "    <tr>\n",
       "      <th>4</th>\n",
       "      <td>0</td>\n",
       "      <td>3</td>\n",
       "      <td>male</td>\n",
       "      <td>35.0</td>\n",
       "      <td>0</td>\n",
       "      <td>0</td>\n",
       "      <td>8.0500</td>\n",
       "      <td>S</td>\n",
       "      <td>Third</td>\n",
       "      <td>man</td>\n",
       "      <td>True</td>\n",
       "      <td>NaN</td>\n",
       "      <td>Southampton</td>\n",
       "      <td>no</td>\n",
       "      <td>True</td>\n",
       "    </tr>\n",
       "  </tbody>\n",
       "</table>\n",
       "</div>"
      ],
      "text/plain": [
       "   survived  pclass     sex   age  sibsp  parch     fare embarked  class  \\\n",
       "0         0       3    male  22.0      1      0   7.2500        S  Third   \n",
       "1         1       1  female  38.0      1      0  71.2833        C  First   \n",
       "2         1       3  female  26.0      0      0   7.9250        S  Third   \n",
       "3         1       1  female  35.0      1      0  53.1000        S  First   \n",
       "4         0       3    male  35.0      0      0   8.0500        S  Third   \n",
       "\n",
       "     who  adult_male deck  embark_town alive  alone  \n",
       "0    man        True  NaN  Southampton    no  False  \n",
       "1  woman       False    C    Cherbourg   yes  False  \n",
       "2  woman       False  NaN  Southampton   yes   True  \n",
       "3  woman       False    C  Southampton   yes  False  \n",
       "4    man        True  NaN  Southampton    no   True  "
      ]
     },
     "execution_count": 154,
     "metadata": {},
     "output_type": "execute_result"
    }
   ],
   "source": [
    "\n",
    "# Load Titanic dataset from seaborn and verify\n",
    "titanic = sns.load_dataset(\"titanic\")\n",
    "titanic.head()"
   ]
  },
  {
   "cell_type": "markdown",
   "id": "2f46176f",
   "metadata": {},
   "source": [
    "# Section 2. Data Exploration and Preparation"
   ]
  },
  {
   "cell_type": "code",
   "execution_count": 155,
   "id": "43189bf7",
   "metadata": {},
   "outputs": [],
   "source": [
    "titanic['age'] = titanic['age'].fillna(titanic['age'].median())\n",
    "\n",
    "titanic = titanic.dropna(subset=['fare'])\n",
    "\n",
    "titanic['family_size'] = titanic['sibsp'] + titanic['parch'] + 1"
   ]
  },
  {
   "cell_type": "markdown",
   "id": "88aa06f6",
   "metadata": {},
   "source": [
    "# Section 3. Feature Selection and Justification"
   ]
  },
  {
   "cell_type": "code",
   "execution_count": 156,
   "id": "4cc618ac",
   "metadata": {},
   "outputs": [],
   "source": [
    "# Case 1. age\n",
    "X1 = titanic[['age']]\n",
    "y1 = titanic['fare']\n",
    "\n",
    "# Case 2. family_size\n",
    "X2 = titanic[['family_size']]\n",
    "y2 = titanic['fare']\n",
    "\n",
    "# Case 3. age, family_size\n",
    "X3 = titanic[['age', 'family_size']]\n",
    "y3 = titanic['fare']\n",
    "\n",
    "# Case 4. pclass\n",
    "X4 = titanic[['pclass']]\n",
    "y4 = titanic['fare']"
   ]
  },
  {
   "cell_type": "markdown",
   "id": "bbe9ebb0",
   "metadata": {},
   "source": [
    "__Reflections:__\n",
    "\n",
    "- Why might these features affect a passenger’s fare:\n",
    "    - \n",
    "- List all available features:\n",
    "- Which other features could improve predictions and why:\n",
    "- How many variables are in your Case 4:\n",
    "- Which variable(s) did you choose for Case 4 and why do you feel those could make good inputs: \n",
    " "
   ]
  },
  {
   "cell_type": "markdown",
   "id": "290f58bf",
   "metadata": {},
   "source": [
    "# Section 4. Train a Regression Model (Linear Regression)"
   ]
  },
  {
   "cell_type": "markdown",
   "id": "5728a401",
   "metadata": {},
   "source": [
    "__4.2 Train and Evaluate Linear Regression Models__\n"
   ]
  },
  {
   "cell_type": "code",
   "execution_count": 157,
   "id": "73786c84",
   "metadata": {},
   "outputs": [],
   "source": [
    "X1_train, X1_test, y1_train, y1_test = train_test_split(X1, y1, test_size=0.2, random_state=123)\n",
    "\n",
    "X2_train, X2_test, y2_train, y2_test = train_test_split(X2, y2, test_size=0.2, random_state=123)\n",
    "\n",
    "X3_train, X3_test, y3_train, y3_test = train_test_split(X3, y3, test_size=0.2, random_state=123)\n",
    "\n",
    "X4_train, X4_test, y4_train, y4_test = train_test_split(X4, y4, test_size=0.2, random_state=123)"
   ]
  },
  {
   "cell_type": "markdown",
   "id": "b0ffb7bf",
   "metadata": {},
   "source": [
    "__4.2 Train and Evaluate Linear Regression Models__"
   ]
  },
  {
   "cell_type": "code",
   "execution_count": 158,
   "id": "56c3584c",
   "metadata": {},
   "outputs": [],
   "source": [
    "lr_model1 = LinearRegression().fit(X1_train, y1_train)\n",
    "lr_model2 = LinearRegression().fit(X2_train, y2_train)\n",
    "lr_model3 = LinearRegression().fit(X3_train, y3_train)\n",
    "lr_model4 = LinearRegression().fit(X4_train, y4_train)\n",
    "\n",
    "# Predictions\n",
    "\n",
    "y_pred_train1 = lr_model1.predict(X1_train)\n",
    "y_pred_test1 = lr_model1.predict(X1_test)\n",
    "\n",
    "y_pred_train2 = lr_model2.predict(X2_train)\n",
    "y_pred_test2 = lr_model2.predict(X2_test)\n",
    "\n",
    "y_pred_train3 = lr_model3.predict(X3_train)\n",
    "y_pred_test3 = lr_model3.predict(X3_test)\n",
    "\n",
    "y_pred_train4 = lr_model4.predict(X4_train)\n",
    "y_pred_test4 = lr_model4.predict(X4_test)\n"
   ]
  },
  {
   "cell_type": "markdown",
   "id": "b0a062a9",
   "metadata": {},
   "source": [
    "__4.3 Report Performance__"
   ]
  },
  {
   "cell_type": "code",
   "execution_count": 159,
   "id": "3d1814c3",
   "metadata": {},
   "outputs": [
    {
     "name": "stdout",
     "output_type": "stream",
     "text": [
      "Case 1 Age:\n",
      "Case 1: Training R²: 0.009950688019452314\n",
      "Case 1: Test R²: 0.0034163395508415295\n",
      "Case 1: Test RMSE: 37.97164180172938\n",
      "Case 1: Test MAE: 25.28637293162364\n",
      "\n",
      "Case 2: Family Size:\n",
      "Case 2: Training R²: 0.049915792364760736\n",
      "Case 2: Test R²: 0.022231186110131973\n",
      "Case 2: Test RMSE: 37.6114940041967\n",
      "Case 2: Test MAE: 25.02534815941641\n",
      "\n",
      "Case 3: Age and Family Size:\n",
      "Case 3: Training R²: 0.07347466201590014\n",
      "Case 3: Test R²: 0.049784832763073106\n",
      "Case 3: Test RMSE: 37.0777586646559\n",
      "Case 3: Test MAE: 24.284935030470688\n",
      "\n",
      "Case 4: Pclass:\n",
      "Case 4: Training R²: 0.3005588037487471\n",
      "Case 4: Test R²: 0.3016017234169923\n",
      "Case 4: Test RMSE: 31.7873316928033\n",
      "Case 4: Test MAE: 20.653703671484056\n",
      "\n"
     ]
    }
   ],
   "source": [
    "print(\"Case 1 Age:\")\n",
    "print(\"Case 1: Training R²:\", r2_score(y1_train, y_pred_train1))\n",
    "print(\"Case 1: Test R²:\", r2_score(y1_test, y_pred_test1))\n",
    "print(\"Case 1: Test RMSE:\", np.sqrt(mean_squared_error(y1_test, y_pred_test1)))\n",
    "print(\"Case 1: Test MAE:\", mean_absolute_error(y1_test, y_pred_test1))\n",
    "print()\n",
    "print(\"Case 2: Family Size:\")\n",
    "print(\"Case 2: Training R²:\", r2_score(y2_train, y_pred_train2))\n",
    "print(\"Case 2: Test R²:\", r2_score(y2_test, y_pred_test2))\n",
    "print(\"Case 2: Test RMSE:\", np.sqrt(mean_squared_error(y2_test, y_pred_test2)))\n",
    "print(\"Case 2: Test MAE:\", mean_absolute_error(y2_test, y_pred_test2))\n",
    "print()\n",
    "print(\"Case 3: Age and Family Size:\")\n",
    "print(\"Case 3: Training R²:\", r2_score(y3_train, y_pred_train3))\n",
    "print(\"Case 3: Test R²:\", r2_score(y3_test, y_pred_test3))\n",
    "print(\"Case 3: Test RMSE:\", np.sqrt(mean_squared_error(y3_test, y_pred_test3)))\n",
    "print(\"Case 3: Test MAE:\", mean_absolute_error(y3_test, y_pred_test3))\n",
    "print()\n",
    "print(\"Case 4: Pclass:\")\n",
    "print(\"Case 4: Training R²:\", r2_score(y4_train, y_pred_train4))\n",
    "print(\"Case 4: Test R²:\", r2_score(y4_test, y_pred_test4))\n",
    "print(\"Case 4: Test RMSE:\", np.sqrt(mean_squared_error(y4_test, y_pred_test4)))\n",
    "print(\"Case 4: Test MAE:\", mean_absolute_error(y4_test, y_pred_test4))\n",
    "print()\n"
   ]
  },
  {
   "cell_type": "markdown",
   "id": "434c3ef4",
   "metadata": {},
   "source": [
    "| Case | Training R² | Test R²| Test RMSE| Test MAE| \n",
    "|------|-----------|--------|-----------|-------|\n",
    "| Case 1 | .00995 | .00341 | 37.97164 | 25.28637 |\n",
    "| Case 2 | .04915 | .02223 | 37.61149 | 25.02534 | \n",
    "| Case 3 | .07347 | .04978 | 37.07775 | 24.28493 | \n",
    "| Case 4 | .30058 | .30160 | 31.78733 | 20.65370 | \n"
   ]
  },
  {
   "cell_type": "markdown",
   "id": "1c685f75",
   "metadata": {},
   "source": [
    "Section 4 Reflection Questions - answer these in your notebook (in a Markdown cell):\n",
    "\n",
    "Compare the train vs test results for each.\n",
    "\n",
    "- Did Case 1 overfit or underfit? Explain:\n",
    "    - Underfit- the R2 values are low\n",
    "- Did Case 2 overfit or underfit? Explain:\n",
    "    - Underfit- just like case one the R2 values are low and tells us we arent really getting anything form the data.\n",
    "- Did Case 3 overfit or underfit? Explain:\n",
    "    - Underfit- R2 values are still really low\n",
    "- Did Case 4 overfit or underfit? Explain:\n",
    "    - neither- R2 values are almost a perfect match which tells us its a good fit. \n",
    "\n",
    "Adding Age\n",
    "\n",
    "- Did adding age improve the model:\n",
    "    - Yes, R2 increased(improvement) and RMSE and MAE decreased which means our errors are reducing\n",
    "- Propose a possible explanation (consider how age might affect ticket price, and whether the data supports that): \n",
    "    - with this data set there could be some relation to ticket prices based on class and family size. \n",
    "\n",
    "Worst\n",
    "\n",
    "- Which case performed the worst:\n",
    "    - Case 1\n",
    "- How do you know: \n",
    "    - it has the lowest R2 values, and the Hights RMSE and MAE values \n",
    "- Do you think adding more training data would improve it (and why/why not):\n",
    "    - no, underfitting\n",
    "\n",
    "Best\n",
    "\n",
    "- Which case performed the best:\n",
    "    - Case 4\n",
    "- How do you know: \n",
    "    - Out of all the case its had the highest R2s and lowest RSME and MAE, when the R2 values are so close it tells us the model is good\n",
    "- Do you think adding more training data would improve it (and why/why not):  \n",
    "    - Yes, the model is already good, based on the R2 values, adding more data could makes the model even better."
   ]
  },
  {
   "cell_type": "markdown",
   "id": "f82ea050",
   "metadata": {},
   "source": [
    "# Section 5. Compare Alternative Models"
   ]
  },
  {
   "cell_type": "markdown",
   "id": "eb058d9e",
   "metadata": {},
   "source": [
    "__5.1 Ridge Regression (L2 penalty)__"
   ]
  },
  {
   "cell_type": "code",
   "execution_count": 160,
   "id": "9a11d5b2",
   "metadata": {},
   "outputs": [
    {
     "name": "stdout",
     "output_type": "stream",
     "text": [
      "Ridge Training R²: 0.3005575470984282\n",
      "Ridge Test R²: 0.30224715597914653\n",
      "Ridge Test RMSE: 31.77263998896141\n",
      "Ridge Test MAE: 20.642499405545284\n"
     ]
    }
   ],
   "source": [
    "\n",
    "ridge_model = Ridge(alpha=1.0)\n",
    "\n",
    "#train\n",
    "ridge_model.fit(X4_train, y4_train)\n",
    "\n",
    "#training and test data\n",
    "y_train_pred_ridge = ridge_model.predict(X4_train)\n",
    "y_test_pred_ridge = ridge_model.predict(X4_test)\n",
    "\n",
    "# Evaluate\n",
    "print(\"Ridge Training R²:\", r2_score(y4_train, y_train_pred_ridge))\n",
    "print(\"Ridge Test R²:\", r2_score(y4_test, y_test_pred_ridge))\n",
    "print(\"Ridge Test RMSE:\", np.sqrt(mean_squared_error(y4_test, y_test_pred_ridge)))\n",
    "print(\"Ridge Test MAE:\", mean_absolute_error(y4_test, y_test_pred_ridge))"
   ]
  },
  {
   "cell_type": "markdown",
   "id": "40b43844",
   "metadata": {},
   "source": [
    "__5.2 Elastic Net (L1 + L2 combined)__"
   ]
  },
  {
   "cell_type": "code",
   "execution_count": 161,
   "id": "028ae5e2",
   "metadata": {},
   "outputs": [
    {
     "name": "stdout",
     "output_type": "stream",
     "text": [
      "Elastic Net R²: 0.0034751035911166905\n",
      "Elastic Net RMSE: 37.97052227706171\n",
      "Elastic Net MAE: 25.284019721480387\n"
     ]
    }
   ],
   "source": [
    "elastic_model = ElasticNet(alpha=0.3, l1_ratio=0.5)\n",
    "elastic_model.fit(X1_train, y1_train)\n",
    "y_pred_elastic = elastic_model.predict(X1_test)\n",
    "\n",
    "\n",
    "print(\"Elastic Net R²:\", r2_score(y4_test, y_pred_elastic))\n",
    "print(\"Elastic Net RMSE:\", np.sqrt(mean_squared_error(y4_test, y_pred_elastic)))\n",
    "print(\"Elastic Net MAE:\", mean_absolute_error(y4_test, y_pred_elastic))"
   ]
  },
  {
   "cell_type": "markdown",
   "id": "b39370a2",
   "metadata": {},
   "source": [
    "__5.3 Polynomial Regression__"
   ]
  },
  {
   "cell_type": "code",
   "execution_count": 162,
   "id": "d88b6ca6",
   "metadata": {},
   "outputs": [],
   "source": [
    "# Set up the poly inputs\n",
    "poly = PolynomialFeatures(degree=3)\n",
    "X_train_poly = poly.fit_transform(X1_train)\n",
    "X_test_poly = poly.transform(X1_test)"
   ]
  },
  {
   "cell_type": "code",
   "execution_count": 163,
   "id": "5a71f21d",
   "metadata": {},
   "outputs": [
    {
     "name": "stdout",
     "output_type": "stream",
     "text": [
      "Polynomial Regression Training R²: 0.35329230021586\n",
      "Polynomial Regression Test R²: 0.33610336564092946\n",
      "Polynomial Regression Test RMSE: 30.992222956832812\n",
      "Polynomial Regression Test MAE: 19.248370731275575\n"
     ]
    }
   ],
   "source": [
    "\n",
    "poly = PolynomialFeatures(degree=3)\n",
    "X4_train_poly = poly.fit_transform(X4_train)\n",
    "X4_test_poly = poly.transform(X4_test)\n",
    "\n",
    "# Train the model on Case 4 poly data\n",
    "poly_model = LinearRegression()\n",
    "poly_model.fit(X4_train_poly, y4_train)\n",
    "\n",
    "# Predict\n",
    "y_train_pred_poly = poly_model.predict(X4_train_poly)\n",
    "y_test_pred_poly = poly_model.predict(X4_test_poly)\n",
    "\n",
    "# Evaluate\n",
    "print(\"Polynomial Regression Training R²:\", r2_score(y4_train, y_train_pred_poly))\n",
    "print(\"Polynomial Regression Test R²:\", r2_score(y4_test, y_test_pred_poly))\n",
    "print(\"Polynomial Regression Test RMSE:\", np.sqrt(mean_squared_error(y4_test, y_test_pred_poly)))\n",
    "print(\"Polynomial Regression Test MAE:\", mean_absolute_error(y4_test, y_test_pred_poly))"
   ]
  },
  {
   "cell_type": "markdown",
   "id": "2c8be58e",
   "metadata": {},
   "source": [
    "__5.4 Visualize Polynomial Cubic Fit (for 1 input feature)__"
   ]
  },
  {
   "cell_type": "code",
   "execution_count": 169,
   "id": "af8c675f",
   "metadata": {},
   "outputs": [
    {
     "data": {
      "image/png": "[encoded data removed]",
      "text/plain": [
       "<Figure size 640x480 with 1 Axes>"
      ]
     },
     "metadata": {},
     "output_type": "display_data"
    }
   ],
   "source": [
    "plt.scatter(X4_test, y4_test, color='coral', label='Actual')\n",
    "plt.scatter(X4_test, y_pred_poly, color='teal', label='Predicted (Poly)')\n",
    "plt.legend()\n",
    "plt.title(\"Polynomial Regression: Pclass vs Fare\")\n",
    "plt.show()\n"
   ]
  },
  {
   "cell_type": "markdown",
   "id": "3652de80",
   "metadata": {},
   "source": [
    "__5.4 Compare All Models__"
   ]
  },
  {
   "cell_type": "markdown",
   "id": "d80d93a8",
   "metadata": {},
   "source": [
    "| Case | Training R² | Test R²| Test RMSE| Test MAE| \n",
    "|------|-----------|--------|-----------|-------|\n",
    "| Ridge | .30055 | .30224| 31.7726 | 20.6424| \n",
    "| NET(combined R2s)| .00347 | .00347 | 37.9705| 25.2840 | \n",
    "| Polynomial | .3532 | .3336 | 30.9922 | 19.24837| \n",
    "\n"
   ]
  },
  {
   "cell_type": "markdown",
   "id": "40d24352",
   "metadata": {},
   "source": [
    "__5.5 Visualize Higher Order Polynomial (for the same 1 input case)__"
   ]
  },
  {
   "cell_type": "code",
   "execution_count": 184,
   "id": "35137f0f",
   "metadata": {},
   "outputs": [
    {
     "data": {
      "image/png": "[encoded data removed]",
      "text/plain": [
       "<Figure size 640x480 with 1 Axes>"
      ]
     },
     "metadata": {},
     "output_type": "display_data"
    }
   ],
   "source": [
    "poly_degree_4 = PolynomialFeatures(degree=4)\n",
    "X4_test_poly_4 = poly_degree_4.fit_transform(X4_test) \n",
    "\n",
    "# Fit the polynomial regression model\n",
    "poly_model_4 = LinearRegression()\n",
    "poly_model_4.fit(X4_test_poly_4, y4_test)\n",
    "\n",
    "# Predictions using the degree 4 polynomial\n",
    "y_pred_poly_4 = poly_model_4.predict(X4_test_poly_4)\n",
    "\n",
    "# Plotting the results\n",
    "plt.scatter(X4_test, y4_test, color='teal', label='Actual')\n",
    "plt.plot(X4_test, y_pred_poly_4, color='Coral', label='Predicted (Poly Degree 4)')\n",
    "plt.legend()\n",
    "plt.title(\"Polynomial Regression (Degree 4): Pclass vs Fare\")\n",
    "plt.xlabel(\"Pclass\")\n",
    "plt.ylabel(\"Fare\")\n",
    "plt.show()"
   ]
  },
  {
   "cell_type": "markdown",
   "id": "2a907df7",
   "metadata": {},
   "source": [
    "# Section 6. Final Thoughts & Insights\n"
   ]
  },
  {
   "cell_type": "markdown",
   "id": "b0f9496c",
   "metadata": {},
   "source": [
    "__6.1 Summarize Findings__"
   ]
  },
  {
   "cell_type": "markdown",
   "id": "d1b80bf2",
   "metadata": {},
   "source": [
    "- What features were most useful?\n",
    "    - Pclass was my most successful feature\n",
    "\n",
    "- What regression model performed best? \n",
    "    - Linear \n",
    "\n",
    "- How did model complexity or regularization affect results?\n",
    "    - regularization models work better for this problem"
   ]
  },
  {
   "cell_type": "markdown",
   "id": "378dc127",
   "metadata": {},
   "source": [
    "__6.2 Discuss Challenges__"
   ]
  },
  {
   "cell_type": "markdown",
   "id": "ca519cec",
   "metadata": {},
   "source": [
    "- Was fare hard to predict? Why?\n",
    "    - yes because it correlated with multiple features\n",
    "\n",
    "- Did skew or outliers impact the models?\n",
    "    - Outliers impact these models"
   ]
  }
 ],
 "metadata": {
  "kernelspec": {
   "display_name": "Python 3",
   "language": "python",
   "name": "python3"
  },
  "language_info": {
   "codemirror_mode": {
    "name": "ipython",
    "version": 3
   },
   "file_extension": ".py",
   "mimetype": "text/x-python",
   "name": "python",
   "nbconvert_exporter": "python",
   "pygments_lexer": "ipython3",
   "version": "3.12.3"
  }
 },
 "nbformat": 4,
 "nbformat_minor": 5
}
