{
 "cells": [
  {
   "cell_type": "markdown",
   "id": "9b597cc3",
   "metadata": {},
   "source": [
    "# Midterm: Classification Analysis\n",
    "\n",
    "Name: Mindy Cruz         \n",
    "Date: 4/6/2025 \n",
    "\n",
    "Intoduction:\n"
   ]
  },
  {
   "cell_type": "markdown",
   "id": "8c452715",
   "metadata": {},
   "source": [
    "# Section 1: Import and Inspect the Data"
   ]
  },
  {
   "cell_type": "code",
   "execution_count": 96,
   "id": "d3143240",
   "metadata": {},
   "outputs": [],
   "source": [
    "# imports\n",
    "import pandas as pd\n",
    "import seaborn as sns\n",
    "import matplotlib.pyplot as plt\n",
    "import numpy as np\n",
    "\n",
    "from sklearn.model_selection import StratifiedShuffleSplit\n",
    "from sklearn.tree import DecisionTreeClassifier, plot_tree\n",
    "from sklearn.svm import SVC\n",
    "from sklearn.neural_network import MLPClassifier\n",
    "from sklearn.metrics import classification_report, confusion_matrix\n",
    "from matplotlib.colors import ListedColormap"
   ]
  },
  {
   "cell_type": "markdown",
   "id": "82321fa9",
   "metadata": {},
   "source": [
    "__1.1 Load Dataset and Display__\n",
    "\n",
    "*UCI Mushroom Dataset*"
   ]
  },
  {
   "cell_type": "code",
   "execution_count": 97,
   "id": "36c23eab",
   "metadata": {},
   "outputs": [
    {
     "name": "stdout",
     "output_type": "stream",
     "text": [
      "<class 'pandas.core.frame.DataFrame'>\n",
      "RangeIndex: 8124 entries, 0 to 8123\n",
      "Data columns (total 23 columns):\n",
      " #   Column  Non-Null Count  Dtype \n",
      "---  ------  --------------  ----- \n",
      " 0   0       8124 non-null   object\n",
      " 1   1       8124 non-null   object\n",
      " 2   2       8124 non-null   object\n",
      " 3   3       8124 non-null   object\n",
      " 4   4       8124 non-null   object\n",
      " 5   5       8124 non-null   object\n",
      " 6   6       8124 non-null   object\n",
      " 7   7       8124 non-null   object\n",
      " 8   8       8124 non-null   object\n",
      " 9   9       8124 non-null   object\n",
      " 10  10      8124 non-null   object\n",
      " 11  11      8124 non-null   object\n",
      " 12  12      8124 non-null   object\n",
      " 13  13      8124 non-null   object\n",
      " 14  14      8124 non-null   object\n",
      " 15  15      8124 non-null   object\n",
      " 16  16      8124 non-null   object\n",
      " 17  17      8124 non-null   object\n",
      " 18  18      8124 non-null   object\n",
      " 19  19      8124 non-null   object\n",
      " 20  20      8124 non-null   object\n",
      " 21  21      8124 non-null   object\n",
      " 22  22      8124 non-null   object\n",
      "dtypes: object(23)\n",
      "memory usage: 1.4+ MB\n",
      "  poisonous cap-shape cap-surface cap-color bruises odor gill-attachment  \\\n",
      "0         p         x           s         n       t    p               f   \n",
      "1         e         x           s         y       t    a               f   \n",
      "2         e         b           s         w       t    l               f   \n",
      "3         p         x           y         w       t    p               f   \n",
      "4         e         x           s         g       f    n               f   \n",
      "\n",
      "  gill-spacing gill-size gill-color  ... stalk-surface-below-ring  \\\n",
      "0            c         n          k  ...                        s   \n",
      "1            c         b          k  ...                        s   \n",
      "2            c         b          n  ...                        s   \n",
      "3            c         n          n  ...                        s   \n",
      "4            w         b          k  ...                        s   \n",
      "\n",
      "  stalk-color-above-ring stalk-color-below-ring veil-type veil-color  \\\n",
      "0                      w                      w         p          w   \n",
      "1                      w                      w         p          w   \n",
      "2                      w                      w         p          w   \n",
      "3                      w                      w         p          w   \n",
      "4                      w                      w         p          w   \n",
      "\n",
      "  ring-number ring-type spore-print-color population habitat  \n",
      "0           o         p                 k          s       u  \n",
      "1           o         p                 n          n       g  \n",
      "2           o         p                 n          n       m  \n",
      "3           o         p                 k          s       u  \n",
      "4           o         e                 n          a       g  \n",
      "\n",
      "[5 rows x 23 columns]\n"
     ]
    }
   ],
   "source": [
    "#load dataset \n",
    "df= pd.read_csv(r\"C:\\Users\\cruzm\\44670 Projects\\applied-ml-mcruz\\midterm\\agaricus-lepiota.data\", delimiter=\",\", header= None)\n",
    "\n",
    "#display the column names, null counts and datatypes\n",
    "df.info()\n",
    "\n",
    "#assign headers\n",
    "headers = [\n",
    "    'poisonous', 'cap-shape', 'cap-surface', 'cap-color', 'bruises', 'odor', 'gill-attachment', \n",
    "    'gill-spacing', 'gill-size', 'gill-color', 'stalk-shape', 'stalk-root', 'stalk-surface-above-ring', \n",
    "    'stalk-surface-below-ring', 'stalk-color-above-ring', 'stalk-color-below-ring', 'veil-type', \n",
    "    'veil-color', 'ring-number', 'ring-type', 'spore-print-color', 'population', 'habitat'\n",
    "]\n",
    "\n",
    "df.columns=headers\n",
    "print(df.head())\n"
   ]
  },
  {
   "cell_type": "code",
   "execution_count": 98,
   "id": "5a66b455",
   "metadata": {},
   "outputs": [
    {
     "name": "stdout",
     "output_type": "stream",
     "text": [
      "  poisonous cap-shape cap-surface cap-color bruises odor gill-attachment  \\\n",
      "0         p         x           s         n       t    p               f   \n",
      "1         e         x           s         y       t    a               f   \n",
      "2         e         b           s         w       t    l               f   \n",
      "3         p         x           y         w       t    p               f   \n",
      "4         e         x           s         g       f    n               f   \n",
      "5         e         x           y         y       t    a               f   \n",
      "6         e         b           s         w       t    a               f   \n",
      "7         e         b           y         w       t    l               f   \n",
      "8         p         x           y         w       t    p               f   \n",
      "9         e         b           s         y       t    a               f   \n",
      "\n",
      "  gill-spacing gill-size gill-color  ... stalk-surface-below-ring  \\\n",
      "0            c         n          k  ...                        s   \n",
      "1            c         b          k  ...                        s   \n",
      "2            c         b          n  ...                        s   \n",
      "3            c         n          n  ...                        s   \n",
      "4            w         b          k  ...                        s   \n",
      "5            c         b          n  ...                        s   \n",
      "6            c         b          g  ...                        s   \n",
      "7            c         b          n  ...                        s   \n",
      "8            c         n          p  ...                        s   \n",
      "9            c         b          g  ...                        s   \n",
      "\n",
      "  stalk-color-above-ring stalk-color-below-ring veil-type veil-color  \\\n",
      "0                      w                      w         p          w   \n",
      "1                      w                      w         p          w   \n",
      "2                      w                      w         p          w   \n",
      "3                      w                      w         p          w   \n",
      "4                      w                      w         p          w   \n",
      "5                      w                      w         p          w   \n",
      "6                      w                      w         p          w   \n",
      "7                      w                      w         p          w   \n",
      "8                      w                      w         p          w   \n",
      "9                      w                      w         p          w   \n",
      "\n",
      "  ring-number ring-type spore-print-color population habitat  \n",
      "0           o         p                 k          s       u  \n",
      "1           o         p                 n          n       g  \n",
      "2           o         p                 n          n       m  \n",
      "3           o         p                 k          s       u  \n",
      "4           o         e                 n          a       g  \n",
      "5           o         p                 k          n       g  \n",
      "6           o         p                 k          n       m  \n",
      "7           o         p                 n          s       m  \n",
      "8           o         p                 k          v       g  \n",
      "9           o         p                 k          s       m  \n",
      "\n",
      "[10 rows x 23 columns]\n"
     ]
    }
   ],
   "source": [
    "#display the first 10 rows\n",
    "print(df.head(10))\n"
   ]
  },
  {
   "cell_type": "markdown",
   "id": "758acadb",
   "metadata": {},
   "source": [
    "__1.2 Check for missing values and display summary statistics__"
   ]
  },
  {
   "cell_type": "code",
   "execution_count": 99,
   "id": "e477ba8b",
   "metadata": {},
   "outputs": [
    {
     "name": "stdout",
     "output_type": "stream",
     "text": [
      "Missing Values:\n",
      "poisonous                   0\n",
      "cap-shape                   0\n",
      "cap-surface                 0\n",
      "cap-color                   0\n",
      "bruises                     0\n",
      "odor                        0\n",
      "gill-attachment             0\n",
      "gill-spacing                0\n",
      "gill-size                   0\n",
      "gill-color                  0\n",
      "stalk-shape                 0\n",
      "stalk-root                  0\n",
      "stalk-surface-above-ring    0\n",
      "stalk-surface-below-ring    0\n",
      "stalk-color-above-ring      0\n",
      "stalk-color-below-ring      0\n",
      "veil-type                   0\n",
      "veil-color                  0\n",
      "ring-number                 0\n",
      "ring-type                   0\n",
      "spore-print-color           0\n",
      "population                  0\n",
      "habitat                     0\n",
      "dtype: int64\n"
     ]
    }
   ],
   "source": [
    "\n",
    "#check for missing values\n",
    "print(\"Missing Values:\")\n",
    "print(df.isnull().sum())\n"
   ]
  },
  {
   "cell_type": "code",
   "execution_count": 100,
   "id": "b4914648",
   "metadata": {},
   "outputs": [
    {
     "name": "stdout",
     "output_type": "stream",
     "text": [
      "       poisonous cap-shape cap-surface cap-color bruises  odor  \\\n",
      "count       8124      8124        8124      8124    8124  8124   \n",
      "unique         2         6           4        10       2     9   \n",
      "top            e         x           y         n       f     n   \n",
      "freq        4208      3656        3244      2284    4748  3528   \n",
      "\n",
      "       gill-attachment gill-spacing gill-size gill-color  ...  \\\n",
      "count             8124         8124      8124       8124  ...   \n",
      "unique               2            2         2         12  ...   \n",
      "top                  f            c         b          b  ...   \n",
      "freq              7914         6812      5612       1728  ...   \n",
      "\n",
      "       stalk-surface-below-ring stalk-color-above-ring stalk-color-below-ring  \\\n",
      "count                      8124                   8124                   8124   \n",
      "unique                        4                      9                      9   \n",
      "top                           s                      w                      w   \n",
      "freq                       4936                   4464                   4384   \n",
      "\n",
      "       veil-type veil-color ring-number ring-type spore-print-color  \\\n",
      "count       8124       8124        8124      8124              8124   \n",
      "unique         1          4           3         5                 9   \n",
      "top            p          w           o         p                 w   \n",
      "freq        8124       7924        7488      3968              2388   \n",
      "\n",
      "       population habitat  \n",
      "count        8124    8124  \n",
      "unique          6       7  \n",
      "top             v       d  \n",
      "freq         4040    3148  \n",
      "\n",
      "[4 rows x 23 columns]\n"
     ]
    }
   ],
   "source": [
    "#display summary stats\n",
    "print(df.describe())"
   ]
  },
  {
   "cell_type": "markdown",
   "id": "994c9044",
   "metadata": {},
   "source": [
    "__Reflection 1:__\n",
    "\n",
    "*1.What do you notice about the dataset?*\n",
    "\n",
    "-no missing data points,  8124 entries, 23 categories/features. \n",
    "\n",
    "*2. Are there any data issues?*\n",
    "\n",
    " I do not see any issues with the data\n"
   ]
  },
  {
   "cell_type": "markdown",
   "id": "998e131b",
   "metadata": {},
   "source": [
    "## Section 2: Data Exploration and Preparation\n",
    "\n"
   ]
  },
  {
   "cell_type": "markdown",
   "id": "f3148b9e",
   "metadata": {},
   "source": [
    "__2.1 Explore data patterns and distributions__"
   ]
  }
 ],
 "metadata": {
  "kernelspec": {
   "display_name": "Python 3",
   "language": "python",
   "name": "python3"
  },
  "language_info": {
   "codemirror_mode": {
    "name": "ipython",
    "version": 3
   },
   "file_extension": ".py",
   "mimetype": "text/x-python",
   "name": "python",
   "nbconvert_exporter": "python",
   "pygments_lexer": "ipython3",
   "version": "3.12.3"
  }
 },
 "nbformat": 4,
 "nbformat_minor": 5
}
